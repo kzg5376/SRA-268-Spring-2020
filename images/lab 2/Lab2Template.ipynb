{
  "nbformat": 4,
  "nbformat_minor": 0,
  "metadata": {
    "colab": {
      "name": "Lab2Template.ipynb",
      "provenance": []
    },
    "kernelspec": {
      "name": "python3",
      "display_name": "Python 3"
    }
  },
  "cells": [
    {
      "cell_type": "markdown",
      "metadata": {
        "id": "6sOc4Uyr4U-Z",
        "colab_type": "text"
      },
      "source": [
        "## Graph Types"
      ]
    },
    {
      "cell_type": "markdown",
      "metadata": {
        "id": "0zZdVLAd5CYr",
        "colab_type": "text"
      },
      "source": [
        "Creator\n",
        "* Kathleen Gallagher"
      ]
    },
    {
      "cell_type": "markdown",
      "metadata": {
        "id": "g-r6Clq45Hn4",
        "colab_type": "text"
      },
      "source": [
        "### Deviation\n"
      ]
    },
    {
      "cell_type": "markdown",
      "metadata": {
        "id": "2gorxo6E7A0t",
        "colab_type": "text"
      },
      "source": [
        "![alt text](https://raw.githubusercontent.com/kzg5376/SRA-268-Spring-2020/master/images/lab%202/Download%20Image-2.png)"
      ]
    },
    {
      "cell_type": "markdown",
      "metadata": {
        "id": "w6bZ_NEi7E3w",
        "colab_type": "text"
      },
      "source": [
        "#### What is this telling us?"
      ]
    },
    {
      "cell_type": "markdown",
      "metadata": {
        "id": "95L-spaC7QHF",
        "colab_type": "text"
      },
      "source": [
        "The purpose of a deviation graph is to show how far two different groups vary off of a certain common point. In my particular graph, I am showing how far the data varies above and below the overall averge of 4,938 for each year. As you can tell from one quick glance, each year's bar either points upwards(exceeding the average) or downwards(below the average). This format makes it easy to separate which years are the underperforming years and which years are exceeding the average. "
      ]
    },
    {
      "cell_type": "markdown",
      "metadata": {
        "id": "YgXyXjmz7cDP",
        "colab_type": "text"
      },
      "source": [
        "### Correlation\n"
      ]
    },
    {
      "cell_type": "markdown",
      "metadata": {
        "id": "SGx15rZq7hvt",
        "colab_type": "text"
      },
      "source": [
        "![alt text](https://raw.githubusercontent.com/kzg5376/SRA-268-Spring-2020/master/images/lab%202/Download%20Image-3.png)"
      ]
    },
    {
      "cell_type": "markdown",
      "metadata": {
        "id": "dljjONNi7jmj",
        "colab_type": "text"
      },
      "source": [
        "#### What is this telling us?"
      ]
    },
    {
      "cell_type": "markdown",
      "metadata": {
        "id": "PwZEZrFB7laG",
        "colab_type": "text"
      },
      "source": [
        "Correlation graphs such as scatterplots are designed to show how much one variable affects another. The closer the number is to 1 or -1, the stronger the correlation. In my example, I chose two variables(# of overtimes and win points) for each year and compared them side by side to see if there was any correlation for the years. As we can see, the winning points year by year have a positive correlation, but not very strong. The # of overtimes year by year have a much weaker correlation because the points are more spread out and not grouped in a compact upward or downward sloping line. "
      ]
    },
    {
      "cell_type": "markdown",
      "metadata": {
        "id": "MqUdI-uL7r2s",
        "colab_type": "text"
      },
      "source": [
        "### Ranking\n"
      ]
    },
    {
      "cell_type": "markdown",
      "metadata": {
        "id": "AvlxCOVt7x9F",
        "colab_type": "text"
      },
      "source": [
        "![alt text](https://raw.githubusercontent.com/kzg5376/SRA-268-Spring-2020/master/images/lab%202/Download%20Image-4.png)"
      ]
    },
    {
      "cell_type": "markdown",
      "metadata": {
        "id": "lCAYtfza7yTq",
        "colab_type": "text"
      },
      "source": [
        "#### What is this telling us?"
      ]
    },
    {
      "cell_type": "markdown",
      "metadata": {
        "id": "MyuciD277ygU",
        "colab_type": "text"
      },
      "source": [
        "A ranking graph simply shows which group scores highest or lowest in a certain category. It is ranked by least to greatest or vice versa so that viewers can easily see which group is the highest or lowest ranking. This is great for comparing groups. I am comparing which year had the highest win seed (2014) and the lowest winning seed (2007). If someone wanted to know the top 5 highest winning seed years, they could easily see the top 5 bars on my graph which would rank (2014, 2013, 2011, 2016, 2012). It is intresting to see that the top 5 years are all very close so we could infer about why the team from 2011-2016 was so much better than previous years. Better coaching staff? Better players? "
      ]
    },
    {
      "cell_type": "markdown",
      "metadata": {
        "id": "dGDGl8-G7y8Y",
        "colab_type": "text"
      },
      "source": [
        "### Distribution\n"
      ]
    },
    {
      "cell_type": "markdown",
      "metadata": {
        "id": "FB0uV-jy76p9",
        "colab_type": "text"
      },
      "source": [
        "![alt text](https://raw.githubusercontent.com/kzg5376/SRA-268-Spring-2020/master/images/lab%202/Download%20Image-5.png)"
      ]
    },
    {
      "cell_type": "markdown",
      "metadata": {
        "id": "_6SOzhrQ76zH",
        "colab_type": "text"
      },
      "source": [
        "#### What is this telling us?"
      ]
    },
    {
      "cell_type": "markdown",
      "metadata": {
        "id": "HBWqsS_g767h",
        "colab_type": "text"
      },
      "source": [
        "Box plots are my favorite type of graph. They are used to show the spread, center, and skewness of data. The \"whiskers\" show the minimum and maximum values, Q1-Q3 within the gray box shows the interquartile range. Q2 is important because it highlights the median of the data. The data is broken up in to 25% chunks- (minimum - Q1 = 25%), (Q1 - Q2 = 25%), (Q2 - Q3 = 25%), (Q3 - maximun = 25%). Box and whisker plots give so much information with their shape. Here I am showing the spread of losing points year by year. The medians vary by seeing the gray portion of the box move slightly year by year, and the maximum losing points can easily be spotted with the range of the top \"whisker\"."
      ]
    },
    {
      "cell_type": "markdown",
      "metadata": {
        "id": "wQsDThk677Fy",
        "colab_type": "text"
      },
      "source": [
        "### Change over Time\n"
      ]
    },
    {
      "cell_type": "markdown",
      "metadata": {
        "id": "Z1j_YLOA7_OK",
        "colab_type": "text"
      },
      "source": [
        "![alt text](https://raw.githubusercontent.com/kzg5376/SRA-268-Spring-2020/master/images/lab%202/Download%20Image-6.png)"
      ]
    },
    {
      "cell_type": "markdown",
      "metadata": {
        "id": "mpfsmmgi7_Vj",
        "colab_type": "text"
      },
      "source": [
        "#### What is this telling us?"
      ]
    },
    {
      "cell_type": "markdown",
      "metadata": {
        "id": "rYLXoMMO7_di",
        "colab_type": "text"
      },
      "source": [
        "Change of time graphs are self explanatory with their name - their purpose is to show in an easy to understand way how a point of data changes over time and highlight trends. I think that a line graph is definitely the best way to display data for viewing a change over time. Here we can see how the total number of overtimes in a year changes from 2000- 2017. 2012-2013 are the lowest point on the graph which shows a major dip in the amount of overtimes in games played that year. Positive and negative trends are easily spotted with the upward or downward slope of the line year by year."
      ]
    },
    {
      "cell_type": "markdown",
      "metadata": {
        "id": "lFwiHoE-7_jZ",
        "colab_type": "text"
      },
      "source": [
        "### Magnitude\n"
      ]
    },
    {
      "cell_type": "markdown",
      "metadata": {
        "id": "ICQFnXj78EbF",
        "colab_type": "text"
      },
      "source": [
        "![alt text](https://raw.githubusercontent.com/kzg5376/SRA-268-Spring-2020/master/images/lab%202/Download%20Image.png)"
      ]
    },
    {
      "cell_type": "markdown",
      "metadata": {
        "id": "QGG7XYG88Eii",
        "colab_type": "text"
      },
      "source": [
        "#### What is this telling us?"
      ]
    },
    {
      "cell_type": "markdown",
      "metadata": {
        "id": "VS7uGa0l8Eos",
        "colab_type": "text"
      },
      "source": [
        "Magnitude graphs also show comparisons of data. This marimekko graph portrays the comparison of average winning points per team. It uses size and color to highlight the teans with the highest averages. The bigger the square and darker the color, the higher the win average. This graph does a good job of comparing multiple groups at the same time. One of the downfalls of this type of graph is that it isnt clear to see the exact values of average points, it does a better job of giving the \"big picture\" rather than exact values. "
      ]
    },
    {
      "cell_type": "markdown",
      "metadata": {
        "id": "bEKFxP8R8Evk",
        "colab_type": "text"
      },
      "source": [
        "### Part-to-Whole\n"
      ]
    },
    {
      "cell_type": "markdown",
      "metadata": {
        "id": "WFHlcYKV8E35",
        "colab_type": "text"
      },
      "source": [
        "![alt text](https://raw.githubusercontent.com/kzg5376/SRA-268-Spring-2020/master/images/lab%202/Download%20Image-7.png)"
      ]
    },
    {
      "cell_type": "markdown",
      "metadata": {
        "id": "PNSd3wlp8UZH",
        "colab_type": "text"
      },
      "source": [
        "#### What is this telling us?"
      ]
    },
    {
      "cell_type": "markdown",
      "metadata": {
        "id": "y9tb_QRA8aqt",
        "colab_type": "text"
      },
      "source": [
        "Part to whole graphs analyze groups in comparison, but highlighting these comparisons through visual proportions. Obviously we can see that green and yellow(Thursday and Friday) have the biggest chunks in the graph, meaning that there are the most overtimes on Thursdays and Fridays. Like the marimekko graph above, pie charts are good for telling the \"big picture\", but not great for giving specific details. The chunks arent labeled for the days so you cant gather all the information that the graph is trying to convey by just looking at the picure- you also need to look at the key or legend for assistance."
      ]
    }
  ]
}