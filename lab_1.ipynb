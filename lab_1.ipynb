{
  "nbformat": 4,
  "nbformat_minor": 0,
  "metadata": {
    "colab": {
      "name": "lab 1",
      "provenance": [],
      "collapsed_sections": [],
      "authorship_tag": "ABX9TyO6L/cV+0CuPg4N9tCaeDLh",
      "include_colab_link": true
    },
    "kernelspec": {
      "name": "python3",
      "display_name": "Python 3"
    }
  },
  "cells": [
    {
      "cell_type": "markdown",
      "metadata": {
        "id": "view-in-github",
        "colab_type": "text"
      },
      "source": [
        "<a href=\"https://colab.research.google.com/github/kzg5376/SRA-268-Spring-2020/blob/master/lab_1.ipynb\" target=\"_parent\"><img src=\"https://colab.research.google.com/assets/colab-badge.svg\" alt=\"Open In Colab\"/></a>"
      ]
    },
    {
      "cell_type": "code",
      "metadata": {
        "id": "7OZaaHBD9iTB",
        "colab_type": "code",
        "colab": {}
      },
      "source": [
        ""
      ],
      "execution_count": 0,
      "outputs": []
    },
    {
      "cell_type": "markdown",
      "metadata": {
        "id": "FX8LH6To9le-",
        "colab_type": "text"
      },
      "source": [
        "# Lab 1"
      ]
    },
    {
      "cell_type": "markdown",
      "metadata": {
        "id": "zXqL58yH9sTw",
        "colab_type": "text"
      },
      "source": [
        "#Outline\n",
        "The subset of data I will be focusing on includes the first day of the months January and July for the years 2017, 2018, and 2019. The sketch will include a portayal of the subset of data with a purpose of observing the temperature changes over the years. I believe that the best way to portray this data would be with a double bar graph because it will be easy to interpret the data when portrayed in a simple way. This will show temperatures on the 1st of January and July side by side for each year so that it is easy for viewers to compare the two temperatures.   "
      ]
    },
    {
      "cell_type": "markdown",
      "metadata": {
        "id": "Yd7mz0q99w9H",
        "colab_type": "text"
      },
      "source": [
        "#Sketch ![image.png](https://raw.githubusercontent.com/kzg5376/SRA-268-Spring-2020/master/thumbnail_IMG_3404.jpg)"
      ]
    },
    {
      "cell_type": "markdown",
      "metadata": {
        "id": "9LgBpFZ190ZW",
        "colab_type": "text"
      },
      "source": [
        "#Conclusions\n",
        "From the double bar graph, it is clear that there is a decreasing trend in the temperatures "
      ]
    }
  ]
}